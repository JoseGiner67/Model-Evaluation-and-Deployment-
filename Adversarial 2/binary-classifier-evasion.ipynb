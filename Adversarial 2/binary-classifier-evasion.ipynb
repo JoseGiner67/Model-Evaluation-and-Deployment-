{
 "cells": [
  {
   "cell_type": "markdown",
   "metadata": {},
   "source": [
    "# Adversarial: Evasion attack"
   ]
  },
  {
   "cell_type": "markdown",
   "metadata": {},
   "source": [
    "Group members:\n",
    "- Jose Giner \n",
    "- Andrés Calandín"
   ]
  },
  {
   "cell_type": "code",
   "execution_count": 1,
   "metadata": {},
   "outputs": [],
   "source": [
    "import pickle\n",
    "import numpy as np\n",
    "import warnings \n",
    "warnings.filterwarnings(\"ignore\")\n",
    "from matplotlib import pyplot"
   ]
  },
  {
   "cell_type": "code",
   "execution_count": 2,
   "metadata": {},
   "outputs": [],
   "source": [
    "#Load the model from the file \"trained_waf_model\"\n",
    "\n",
    "p = pickle.load(open('waf/trained_waf_model', 'rb'))"
   ]
  },
  {
   "cell_type": "code",
   "execution_count": 3,
   "metadata": {},
   "outputs": [
    {
     "data": {
      "text/plain": [
       "{'steps': [('vectorizer',\n",
       "   TfidfVectorizer(analyzer='char', dtype=<class 'numpy.int64'>, min_df=0.0,\n",
       "                   ngram_range=(1, 3), sublinear_tf=True)),\n",
       "  ('classifier',\n",
       "   LogisticRegression(class_weight='balanced', multi_class='ovr', n_jobs=1,\n",
       "                      solver='liblinear'))],\n",
       " 'memory': None}"
      ]
     },
     "execution_count": 3,
     "metadata": {},
     "output_type": "execute_result"
    }
   ],
   "source": [
    "#Take a look at the structure of the trained model\n",
    "vars(p)"
   ]
  },
  {
   "cell_type": "code",
   "execution_count": 4,
   "metadata": {},
   "outputs": [
    {
     "data": {
      "text/plain": [
       "TfidfVectorizer(analyzer='char', dtype=<class 'numpy.int64'>, min_df=0.0,\n",
       "                ngram_range=(1, 3), sublinear_tf=True)"
      ]
     },
     "execution_count": 4,
     "metadata": {},
     "output_type": "execute_result"
    }
   ],
   "source": [
    "# Extract the first component of the pipeline object that correspond to the vectorization of a string\n",
    "\n",
    "vec = p.steps[0][1]\n",
    "vec\n"
   ]
  },
  {
   "cell_type": "code",
   "execution_count": 5,
   "metadata": {},
   "outputs": [
    {
     "data": {
      "text/plain": [
       "LogisticRegression(class_weight='balanced', multi_class='ovr', n_jobs=1,\n",
       "                   solver='liblinear')"
      ]
     },
     "execution_count": 5,
     "metadata": {},
     "output_type": "execute_result"
    }
   ],
   "source": [
    "# Extract the second component of the pipeline object that correspond to the logistic regression model\n",
    "\n",
    "clf = p.steps[1][1]\n",
    "clf"
   ]
  },
  {
   "cell_type": "code",
   "execution_count": 6,
   "metadata": {},
   "outputs": [
    {
     "name": "stdout",
     "output_type": "stream",
     "text": [
      "[ 9.88191796 13.29416517 13.98731235 ... 14.39277746 14.39277746\n",
      " 14.39277746]\n"
     ]
    }
   ],
   "source": [
    "# Consult the values that correspond to the terms weight (the learned inverse document frequency, or IDF vector)\n",
    "print(vec.idf_)"
   ]
  },
  {
   "cell_type": "code",
   "execution_count": 7,
   "metadata": {},
   "outputs": [
    {
     "name": "stdout",
     "output_type": "stream",
     "text": [
      "[[3.86345441e+00 2.97867212e-02 1.67598454e-03 ... 5.48339628e-06\n",
      "  5.48339628e-06 5.48339628e-06]]\n"
     ]
    }
   ],
   "source": [
    "# Consult the coefficients learned by the logistic regression model\n",
    "\n",
    "print(clf.coef_)"
   ]
  },
  {
   "cell_type": "code",
   "execution_count": 8,
   "metadata": {},
   "outputs": [],
   "source": [
    "# Compute and visualize the influence of each component of the vocabulary\n",
    "influences = []\n",
    "for t in range(len(vec.idf_)):\n",
    "    res = vec.idf_[t] * clf.coef_[0][t]\n",
    "    influences.append(res)"
   ]
  },
  {
   "cell_type": "code",
   "execution_count": 52,
   "metadata": {},
   "outputs": [
    {
     "data": {
      "image/png": "[encoded data removed]",
      "text/plain": [
       "<Figure size 432x288 with 1 Axes>"
      ]
     },
     "metadata": {
      "needs_background": "light"
     },
     "output_type": "display_data"
    }
   ],
   "source": [
    "# plot component influence\n",
    "pyplot.bar([x for x in range(len(influences))], influences)\n",
    "pyplot.show()"
   ]
  },
  {
   "cell_type": "code",
   "execution_count": 9,
   "metadata": {},
   "outputs": [],
   "source": [
    "import os, urllib.parse, pickle\n",
    "import random"
   ]
  },
  {
   "cell_type": "code",
   "execution_count": null,
   "metadata": {},
   "outputs": [],
   "source": [
    "# Take a look to the vocabulary extracted by TfidVectorizer\n",
    "\n",
    "vec.vocabulary_"
   ]
  },
  {
   "cell_type": "code",
   "execution_count": null,
   "metadata": {},
   "outputs": [],
   "source": [
    "# Create a token vocabulary dictionary so that we can access tokens by index.\n",
    "\n",
    "vocab = dict([(v,k) for k,v in vec.vocabulary_.items()])\n",
    "vocab"
   ]
  },
  {
   "cell_type": "code",
   "execution_count": 12,
   "metadata": {},
   "outputs": [],
   "source": [
    "# Obtain the position of the most influential term\n",
    "smallest = min(influences)\n",
    "pos = influences.index(smallest)       "
   ]
  },
  {
   "cell_type": "code",
   "execution_count": 13,
   "metadata": {
    "scrolled": true
   },
   "outputs": [
    {
     "name": "stdout",
     "output_type": "stream",
     "text": [
      "Vocabulary entry : t/s\n",
      "Position : 81937\n",
      "Influential value : -56.553729075898765\n"
     ]
    }
   ],
   "source": [
    "# Print the vocabulary entry, the position and the influential value of the vocabulary term\n",
    "print('Vocabulary entry :',vocab[pos])\n",
    "print('Position :',pos)\n",
    "print('Influential value :',smallest)"
   ]
  },
  {
   "cell_type": "code",
   "execution_count": 14,
   "metadata": {},
   "outputs": [],
   "source": [
    "# Build the attack\n",
    "\n",
    "payload = \"<script>alert(1)</script>\""
   ]
  },
  {
   "cell_type": "code",
   "execution_count": 15,
   "metadata": {},
   "outputs": [
    {
     "data": {
      "text/plain": [
       "array([1], dtype=int64)"
      ]
     },
     "execution_count": 15,
     "metadata": {},
     "output_type": "execute_result"
    }
   ],
   "source": [
    "# Apply the prediction model\n",
    "\n",
    "p.predict([payload])"
   ]
  },
  {
   "cell_type": "code",
   "execution_count": 16,
   "metadata": {},
   "outputs": [
    {
     "data": {
      "text/plain": [
       "array([[1.86163618e-09, 9.99999998e-01]])"
      ]
     },
     "execution_count": 16,
     "metadata": {},
     "output_type": "execute_result"
    }
   ],
   "source": [
    "# Obtain the probabilities\n",
    "\n",
    "p.predict_proba([payload])"
   ]
  },
  {
   "cell_type": "markdown",
   "metadata": {},
   "source": [
    "#### QUESTION: Is it an XSS attack? With what confidence (probability) has the attack been classified?\n",
    "\n",
    "Based on the model's prediction, this sample is considered an attack (output class label is 1), with probability of practically 1 (0.999999998).\n",
    "\n"
   ]
  },
  {
   "cell_type": "code",
   "execution_count": 17,
   "metadata": {},
   "outputs": [
    {
     "name": "stdout",
     "output_type": "stream",
     "text": [
      "[1]\n"
     ]
    },
    {
     "data": {
      "text/plain": [
       "array([[3.45195445e-07, 9.99999655e-01]])"
      ]
     },
     "execution_count": 17,
     "metadata": {},
     "output_type": "execute_result"
    }
   ],
   "source": [
    "# Inject the most influential string localized previously in the vocabulary and observe the results\n",
    "\n",
    "print(p.predict(['/' + vocab[pos] + payload]))\n",
    "p.predict_proba(['/' + vocab[pos] + payload])"
   ]
  },
  {
   "cell_type": "markdown",
   "metadata": {},
   "source": [
    "#### QUESTION: Is it correctly classified as an XSS attack? With what confidence (probability) has the attack been classified now? Can you see any difference? \n",
    "\n",
    "Yes because predicted class label is 1, with a bit less probabilty (0.999999655) than before. By introducing this negatively influential string into the attack code, we can see that predicted chances of being an instance of XSS have slightly dropped and so the opposite probability (not being an attack) has increased a bit.\n",
    "\n"
   ]
  },
  {
   "cell_type": "code",
   "execution_count": 19,
   "metadata": {},
   "outputs": [
    {
     "name": "stdout",
     "output_type": "stream",
     "text": [
      "[1]\n"
     ]
    },
    {
     "data": {
      "text/plain": [
       "array([[0.04848647, 0.95151353]])"
      ]
     },
     "execution_count": 19,
     "metadata": {},
     "output_type": "execute_result"
    }
   ],
   "source": [
    "# Add 50 repetitions of the strings and observe the changes in the probability and prediction\n",
    "\n",
    "print(p.predict(['/' + vocab[pos] * 50 + payload]))\n",
    "p.predict_proba(['/' + vocab[pos] * 50 + payload])"
   ]
  },
  {
   "cell_type": "markdown",
   "metadata": {},
   "source": [
    "#### QUESTION: Is it correctly classified as an XSS attack? With what confidence (probability) has the attack been classified now? Can you see any difference? \n",
    "\n",
    "By adding 50 repetitions, the string is still classified as an XSS attack, although probability is now more reduced (0.9515). Negative class probability has significantly increased up to 0.0485, meaning that the attack presents more features that identify good non-harmful queries."
   ]
  },
  {
   "cell_type": "code",
   "execution_count": 23,
   "metadata": {},
   "outputs": [
    {
     "name": "stdout",
     "output_type": "stream",
     "text": [
      "238\n",
      "[0]\n",
      "[[0.50105858 0.49894142]]\n"
     ]
    }
   ],
   "source": [
    "# Force the model until it changes its mind by injecting more strings. \n",
    "\n",
    "i = 1\n",
    "while True:\n",
    "    pred_class = p.predict(['/' + vocab[pos] * i + payload])\n",
    "    if pred_class == 0:\n",
    "        print(i)\n",
    "        break\n",
    "    \n",
    "    else:\n",
    "        i += 1\n",
    "        \n",
    "print(p.predict(['/' + (vocab[pos]) * i + payload]))\n",
    "print(p.predict_proba(['/' + (vocab[pos]) * i + payload]))"
   ]
  },
  {
   "cell_type": "markdown",
   "metadata": {},
   "source": [
    "#### QUESTION:\tHow many times have you injected the string until you succeeded? What does the injected\tcode look like?\n",
    "\n",
    "The string was injected 238 times so that the classifier predicts that the new code is not an XSS attack. Below we show the injected code.\n"
   ]
  },
  {
   "cell_type": "code",
   "execution_count": 24,
   "metadata": {},
   "outputs": [
    {
     "data": {
      "text/plain": [
       "'/t/st/st/st/st/st/st/st/st/st/st/st/st/st/st/st/st/st/st/st/st/st/st/st/st/st/st/st/st/st/st/st/st/st/st/st/st/st/st/st/st/st/st/st/st/st/st/st/st/st/st/st/st/st/st/st/st/st/st/st/st/st/st/st/st/st/st/st/st/st/st/st/st/st/st/st/st/st/st/st/st/st/st/st/st/st/st/st/st/st/st/st/st/st/st/st/st/st/st/st/st/st/st/st/st/st/st/st/st/st/st/st/st/st/st/st/st/st/st/st/st/st/st/st/st/st/st/st/st/st/st/st/st/st/st/st/st/st/st/st/st/st/st/st/st/st/st/st/st/st/st/st/st/st/st/st/st/st/st/st/st/st/st/st/st/st/st/st/st/st/st/st/st/st/st/st/st/st/st/st/st/st/st/st/st/st/st/st/st/st/st/st/st/st/st/st/st/st/st/st/st/st/st/st/st/st/st/st/st/st/st/st/st/st/st/st/st/st/st/st/st/st/st/st/st/st/st/st/st/st/st/st/st/st/st/st/st/st/s<script>alert(1)</script>'"
      ]
     },
     "execution_count": 24,
     "metadata": {},
     "output_type": "execute_result"
    }
   ],
   "source": [
    "# Visualize the results. You have achieved an evasion attack\n",
    "'/' + vocab[pos] * i + payload"
   ]
  },
  {
   "cell_type": "code",
   "execution_count": null,
   "metadata": {},
   "outputs": [],
   "source": []
  }
 ],
 "metadata": {
  "kernelspec": {
   "display_name": "Python 3",
   "language": "python",
   "name": "python3"
  },
  "language_info": {
   "codemirror_mode": {
    "name": "ipython",
    "version": 3
   },
   "file_extension": ".py",
   "mimetype": "text/x-python",
   "name": "python",
   "nbconvert_exporter": "python",
   "pygments_lexer": "ipython3",
   "version": "3.7.0"
  }
 },
 "nbformat": 4,
 "nbformat_minor": 4
}
